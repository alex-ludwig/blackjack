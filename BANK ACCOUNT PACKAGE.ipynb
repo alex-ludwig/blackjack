{
 "cells": [
  {
   "cell_type": "code",
   "execution_count": 2,
   "id": "a46a1766",
   "metadata": {},
   "outputs": [],
   "source": [
    "#BANK ACCOUNT\n",
    "\n",
    "class Banking:\n",
    "    \n",
    "    def __init__(self):\n",
    "        pass\n",
    "        \n",
    "    def check_balance(self):\n",
    "        print(f\"Accounts of: {self.name}\\tTotal Balance: {self.balance}\")\n",
    "    \n",
    "    def deposit(self, value):\n",
    "        \n",
    "        self.balance += value\n",
    "        self.check_balance()\n",
    "        \n",
    "    def withdraw(self, value):\n",
    "\n",
    "        if self.balance <= 0 or (self.balance - value)<0: \n",
    "            print(\"\\n### YOU AIN'T GOT SH#T BRUVV!###\\n\")\n",
    "            print(f\"Accounts of: {self.name}\\tTotal Balance: {self.balance}\")\n",
    "        else:\n",
    "            self.balance -= value\n",
    "            self.check_balance()\n",
    "\n",
    "class Account(Banking):\n",
    "    \n",
    "    def __init__(self, name=\"new account\", balance=0):\n",
    "        \n",
    "        # setup Account\n",
    "        self.name = name\n",
    "        self.balance = balance\n",
    "        \n",
    "        # setup Banking\n",
    "        Banking.__init__(self)\n",
    "        \n",
    "        #check balance\n",
    "        Banking.check_balance(self)\n",
    "        \n",
    "    def check_again(self):\n",
    "        print(f\"REAL BALANCE: {self.balance}\")\n",
    "    "
   ]
  },
  {
   "cell_type": "code",
   "execution_count": 3,
   "id": "4704b815",
   "metadata": {},
   "outputs": [
    {
     "name": "stdout",
     "output_type": "stream",
     "text": [
      "Accounts of: Jose\tTotal Balance: 100\n",
      "Accounts of: Jose\tTotal Balance: 500\n",
      "Accounts of: Jose\tTotal Balance: 100\n"
     ]
    }
   ],
   "source": [
    "account = Account('Jose',100)\n",
    "account.deposit(400)\n",
    "account.withdraw(400)"
   ]
  }
 ],
 "metadata": {
  "kernelspec": {
   "display_name": "Python 3 (ipykernel)",
   "language": "python",
   "name": "python3"
  },
  "language_info": {
   "codemirror_mode": {
    "name": "ipython",
    "version": 3
   },
   "file_extension": ".py",
   "mimetype": "text/x-python",
   "name": "python",
   "nbconvert_exporter": "python",
   "pygments_lexer": "ipython3",
   "version": "3.11.7"
  }
 },
 "nbformat": 4,
 "nbformat_minor": 5
}
